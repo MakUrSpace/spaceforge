{
 "cells": [
  {
   "cell_type": "code",
   "execution_count": 1,
   "metadata": {},
   "outputs": [],
   "source": [
    "import spaceforge.spaceforge as sf\n",
    "import viewscad\n",
    "sf.openscad_path = \"openscad\"\n",
    "r = viewscad.Renderer()"
   ]
  },
  {
   "cell_type": "code",
   "execution_count": 2,
   "metadata": {},
   "outputs": [
    {
     "name": "stdout",
     "output_type": "stream",
     "text": [
      "rm: cannot remove '/tmp/hsperfdata_root': Operation not permitted\n",
      "rm: cannot remove '/tmp/jupyterlab-debug-xd9munzx.log': Operation not permitted\n",
      "rm: cannot remove '/tmp/npm-396-900fb300': Operation not permitted\n",
      "rm: cannot remove '/tmp/npm-485-821439f5': Operation not permitted\n",
      "rm: cannot remove '/tmp/tmpm9qesrzp': Operation not permitted\n",
      "rm: cannot remove '/tmp/v8-compile-cache-0/8.4.371.23-node.84/zSusrzSlocalzSsharezSjupyterzSlabzSstagingzSnode_moduleszSwebpackzSbinzSwebpack.js.BLOB': Permission denied\n",
      "rm: cannot remove '/tmp/v8-compile-cache-0/8.4.371.23-node.84/zSusrzSlocalzSsharezSjupyterzSlabzSstagingzSnode_moduleszSwebpackzSbinzSwebpack.js.MAP': Permission denied\n",
      "rm: cannot remove '/tmp/yarn--1656017509566-0.3700029813609462/yarn': Permission denied\n",
      "rm: cannot remove '/tmp/yarn--1656017509566-0.3700029813609462/node': Permission denied\n",
      "rm: cannot remove '/tmp/yarn--1656017510161-0.3578644464397196/yarn': Permission denied\n",
      "rm: cannot remove '/tmp/yarn--1656017510161-0.3578644464397196/node': Permission denied\n",
      "rm: cannot remove '/tmp/yarn--1656017515972-0.6007842425847612/yarn': Permission denied\n",
      "rm: cannot remove '/tmp/yarn--1656017515972-0.6007842425847612/node': Permission denied\n",
      "rm: cannot remove '/tmp/yarn--1656017685474-0.6831526822592853/yarn': Permission denied\n",
      "rm: cannot remove '/tmp/yarn--1656017685474-0.6831526822592853/node': Permission denied\n",
      "rm: cannot remove '/tmp/yarn--1656017686028-0.9596808807457788/yarn': Permission denied\n",
      "rm: cannot remove '/tmp/yarn--1656017686028-0.9596808807457788/node': Permission denied\n"
     ]
    }
   ],
   "source": [
    "!rm -rf /tmp/*"
   ]
  },
  {
   "cell_type": "code",
   "execution_count": 3,
   "metadata": {},
   "outputs": [],
   "source": [
    "font = \"Liberation Serif\"\n",
    "firstOrder = {\n",
    "    \"orderId\": \"foo\",\n",
    "    \"operations\": [\n",
    "        [\"text\", \"1\", 28, 4, font, \"placeNumber\"],\n",
    "        [\"rotate\", \"placeNumber\", [90, 0, 0], \"placeNumber\"],\n",
    "        [\"text\", \"ST\", 8, 4, font, \"placeSuffix\"],\n",
    "        [\"rotate\", \"placeSuffix\", [90, 0, 0], \"placeSuffix\"],\n",
    "        [\"translate\", \"placeSuffix\", [14, 0, 15], \"placeSuffix\"],\n",
    "        [\"compile\", \"placeNumber\", \"placeNumber\"],\n",
    "        [\"compile\", \"placeSuffix\", \"placeSuffix\"],\n",
    "        [\"combine\", \"placeNumber\", \"placeSuffix\", \"placeMarker\"],\n",
    "        [\"export\", \"placeMarker\", \"1stPlaceMarker.stl\"]\n",
    "    ]\n",
    "}\n",
    "secondOrder = {\n",
    "    \"orderId\": \"foo\",\n",
    "    \"operations\": [\n",
    "        [\"text\", \"2\", 28, 4, font, \"placeNumber\"],\n",
    "        [\"rotate\", \"placeNumber\", [90, 0, 0], \"placeNumber\"],\n",
    "        [\"text\", \"ND\", 8, 4, font, \"placeSuffix\"],\n",
    "        [\"rotate\", \"placeSuffix\", [90, 0, 0], \"placeSuffix\"],\n",
    "        [\"translate\", \"placeSuffix\", [18, 0, 15], \"placeSuffix\"],\n",
    "        [\"compile\", \"placeNumber\", \"placeNumber\"],\n",
    "        [\"compile\", \"placeSuffix\", \"placeSuffix\"],\n",
    "        [\"combine\", \"placeNumber\", \"placeSuffix\", \"placeMarker\"],\n",
    "        [\"export\", \"placeMarker\", \"2ndPlaceMarker.stl\"]\n",
    "    ]\n",
    "}\n",
    "thirdOrder = {\n",
    "    \"orderId\": \"foo\",\n",
    "    \"operations\": [\n",
    "        [\"text\", \"3\", 28, 4, font, \"placeNumber\"],\n",
    "        [\"rotate\", \"placeNumber\", [90, 0, 0], \"placeNumber\"],\n",
    "        [\"text\", \"RD\", 8, 4, font, \"placeSuffix\"],\n",
    "        [\"rotate\", \"placeSuffix\", [90, 0, 0], \"placeSuffix\"],\n",
    "        [\"translate\", \"placeSuffix\", [18, 0, 15], \"placeSuffix\"],\n",
    "        [\"compile\", \"placeNumber\", \"placeNumber\"],\n",
    "        [\"compile\", \"placeSuffix\", \"placeSuffix\"],\n",
    "        [\"combine\", \"placeNumber\", \"placeSuffix\", \"placeMarker\"],\n",
    "        [\"export\", \"placeMarker\", \"3rdPlaceMarker.stl\"]\n",
    "    ]\n",
    "}"
   ]
  },
  {
   "cell_type": "code",
   "execution_count": 4,
   "metadata": {},
   "outputs": [],
   "source": [
    "for order in [firstOrder, secondOrder, thirdOrder]:\n",
    "    sf.Spaceforge.executeOrder(sf.ForgeOrder(**order))"
   ]
  },
  {
   "cell_type": "code",
   "execution_count": 7,
   "metadata": {},
   "outputs": [
    {
     "name": "stdout",
     "output_type": "stream",
     "text": [
      "1stPlaceMarker.stl.scad        placeNumber.scad\n",
      "1stPlaceMarker.stl.stl\t       placeNumber.stl\n",
      "2ndPlaceMarker.stl.scad        placeSuffix.scad\n",
      "2ndPlaceMarker.stl.stl\t       placeSuffix.stl\n",
      "3rdPlaceMarker.stl.scad        tmpm9qesrzp\n",
      "3rdPlaceMarker.stl.stl\t       v8-compile-cache-0\n",
      "hsperfdata_root\t\t       yarn--1656017509566-0.3700029813609462\n",
      "jupyterlab-debug-klwsr02o.log  yarn--1656017510161-0.3578644464397196\n",
      "jupyterlab-debug-xd9munzx.log  yarn--1656017515972-0.6007842425847612\n",
      "npm-396-900fb300\t       yarn--1656017685474-0.6831526822592853\n",
      "npm-485-821439f5\t       yarn--1656017686028-0.9596808807457788\n"
     ]
    }
   ],
   "source": [
    "!ls /tmp"
   ]
  },
  {
   "cell_type": "code",
   "execution_count": 8,
   "metadata": {},
   "outputs": [
    {
     "name": "stdout",
     "output_type": "stream",
     "text": [
      "$fn=20;\n",
      "\n",
      "\n",
      "\n",
      "import(file = \"/tmp/3rdPlaceMarker.stl.stl\", origin = [0, 0]);\n"
     ]
    },
    {
     "data": {
      "application/vnd.jupyter.widget-view+json": {
       "model_id": "0e5a5d824a0845c79be36fb5082df1ad",
       "version_major": 2,
       "version_minor": 0
      },
      "text/plain": [
       "VBox(children=(HTML(value=''), Renderer(background='#cccc88', background_opacity=0.0, camera=PerspectiveCamera…"
      ]
     },
     "metadata": {},
     "output_type": "display_data"
    }
   ],
   "source": [
    "placeMarker = sf.sp.import_stl('/tmp/3rdPlaceMarker.stl.stl')\n",
    "MovedHammer = sf.sp.import_stl('/tmp/MovedHammer.stl')\n",
    "eventName = sf.sp.import_stl('/tmp/eventName.stl')\n",
    "hostName = sf.sp.import_stl('/tmp/hostName.stl')\n",
    "year = sf.sp.import_stl('/tmp/year.stl')\n",
    "placeNumber = sf.sp.import_stl('/tmp/placeNumber.stl')\n",
    "\n",
    "r.render(placeMarker)"
   ]
  },
  {
   "cell_type": "code",
   "execution_count": 50,
   "metadata": {},
   "outputs": [],
   "source": [
    "TrophyOrder = {\n",
    "    \"orderId\": \"foo\",\n",
    "    \"operations\": [\n",
    "        [\"import\", \"BaseHammer.stl\"],\n",
    "        [\"rotate\", \"BaseHammer.stl\", [0, 90, 0], \"BaseHammer.stl\"],\n",
    "        [\"translate\", \"BaseHammer.stl\", [0, 6.5, 42], \"BaseHammer.stl\"],\n",
    "        [\"import\", \"1stPlaceMarker.stl\"],\n",
    "        [\"scale\", \"1stPlaceMarker.stl\", [0.5, 1, 0.8], \"1stPlaceMarker.stl\"],\n",
    "        [\"align\", \"1stPlaceMarker.stl\", \"BaseHammer.stl\", ['z'], \"1stPlaceMarker.stl\"],\n",
    "        [\"translate\", \"1stPlaceMarker.stl\", [8.5, 0, 0], \"1stPlaceMarker.stl\"],\n",
    "        [\"text\", \"Hammered Trivia\", 1.5, 4, \"hostName\"],\n",
    "        [\"rotate\", \"hostName\", [90, 0, 0], \"hostName\"],\n",
    "        [\"translate\", \"hostName\", [0, 0, 40], \"hostName\"],\n",
    "        [\"text\", \"2022\", 4, 4, \"year\"],\n",
    "        [\"rotate\", \"year\", [90, 0, 0], \"year\"],\n",
    "        [\"translate\", \"year\", [0, 0, 10], \"year\"],\n",
    "        [\"text\", \"Triangle Tournament\", 1.2, 4, \"eventName\"],\n",
    "        [\"rotate\", \"eventName\", [90, 0, 0], \"eventName\"],\n",
    "        [\"translate\", \"eventName\", [0, 0, 38], \"eventName\"],\n",
    "        [\"align\", \"eventName\", \"1stPlaceMarker.stl\", ['x'], 'eventName'],\n",
    "        [\"align\", \"hostName\", \"1stPlaceMarker.stl\", ['x'], 'hostName'],\n",
    "        [\"align\", \"year\", \"1stPlaceMarker.stl\", ['x'], 'year'],\n",
    "        [\"combine\", \"1stPlaceMarker.stl\", \"hostName\", \"descriptivePlate\"],\n",
    "        [\"combine\", \"descriptivePlate\", \"year\", \"descriptivePlate\"],\n",
    "        [\"combine\", \"descriptivePlate\", \"eventName\", \"descriptivePlate\"],\n",
    "        [\"compile\", \"descriptivePlate\", \"descriptivePlate\"],\n",
    "        [\"rotate\", \"descriptivePlate\", [0, 0, 180], \"descriptivePlate2\"],\n",
    "        [\"align\", \"descriptivePlate2\", \"descriptivePlate\", ['x'], \"descriptivePlate2\"],\n",
    "        [\"translate\", \"descriptivePlate2\", [0, 28, 0], \"descriptivePlate2\"],\n",
    "        [\"import\", \"HammeredTriviaLogo.stl\"],\n",
    "        [\"compile\", \"BaseHammer.stl\", \"MovedHammer\"],\n",
    "        [\"compile\", \"descriptivePlate\", \"descriptivePlate\"],\n",
    "        [\"compile\", \"descriptivePlate2\", \"descriptivePlate2\"],\n",
    "    ]\n",
    "}"
   ]
  },
  {
   "cell_type": "code",
   "execution_count": 51,
   "metadata": {},
   "outputs": [],
   "source": [
    "sf.Spaceforge.executeOrder(sf.ForgeOrder(**TrophyOrder))"
   ]
  },
  {
   "cell_type": "code",
   "execution_count": 52,
   "metadata": {},
   "outputs": [
    {
     "name": "stdout",
     "output_type": "stream",
     "text": [
      "$fn=20;\n",
      "\n",
      "\n",
      "\n",
      "union() {\n",
      "\timport(file = \"/tmp/MovedHammer.stl\", origin = [0, 0]);\n",
      "\timport(file = \"/tmp/descriptivePlate.stl\", origin = [0, 0]);\n",
      "\timport(file = \"/tmp/descriptivePlate2.stl\", origin = [0, 0]);\n",
      "}\n"
     ]
    },
    {
     "data": {
      "application/vnd.jupyter.widget-view+json": {
       "model_id": "57118ea7e38c40dababf255d15f4d769",
       "version_major": 2,
       "version_minor": 0
      },
      "text/plain": [
       "VBox(children=(HTML(value=''), Renderer(background='#cccc88', background_opacity=0.0, camera=PerspectiveCamera…"
      ]
     },
     "metadata": {},
     "output_type": "display_data"
    }
   ],
   "source": [
    "descriptivePlate = sf.sp.import_stl('/tmp/descriptivePlate.stl')\n",
    "descriptivePlate2 = sf.sp.import_stl('/tmp/descriptivePlate2.stl')\n",
    "MovedHammer = sf.sp.import_stl('/tmp/MovedHammer.stl')\n",
    "\n",
    "r.render(MovedHammer + descriptivePlate + descriptivePlate2)"
   ]
  },
  {
   "cell_type": "code",
   "execution_count": 53,
   "metadata": {},
   "outputs": [
    {
     "name": "stdout",
     "output_type": "stream",
     "text": [
      "$fn=20;\n",
      "\n",
      "\n",
      "\n",
      "import(file = \"/tmp/descriptivePlate.stl\", origin = [0, 0]);\n"
     ]
    },
    {
     "data": {
      "application/vnd.jupyter.widget-view+json": {
       "model_id": "bdd3710c680a4c448b25a1e6ad8e16e8",
       "version_major": 2,
       "version_minor": 0
      },
      "text/plain": [
       "VBox(children=(HTML(value=''), Renderer(background='#cccc88', background_opacity=0.0, camera=PerspectiveCamera…"
      ]
     },
     "metadata": {},
     "output_type": "display_data"
    }
   ],
   "source": [
    "r.render(descriptivePlate)"
   ]
  },
  {
   "cell_type": "code",
   "execution_count": null,
   "metadata": {},
   "outputs": [],
   "source": []
  }
 ],
 "metadata": {
  "kernelspec": {
   "display_name": "Python 3 (ipykernel)",
   "language": "python",
   "name": "python3"
  },
  "language_info": {
   "codemirror_mode": {
    "name": "ipython",
    "version": 3
   },
   "file_extension": ".py",
   "mimetype": "text/x-python",
   "name": "python",
   "nbconvert_exporter": "python",
   "pygments_lexer": "ipython3",
   "version": "3.8.10"
  }
 },
 "nbformat": 4,
 "nbformat_minor": 4
}
